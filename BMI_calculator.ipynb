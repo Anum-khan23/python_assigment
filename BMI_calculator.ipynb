{
  "nbformat": 4,
  "nbformat_minor": 0,
  "metadata": {
    "colab": {
      "provenance": []
    },
    "kernelspec": {
      "name": "python3",
      "display_name": "Python 3"
    },
    "language_info": {
      "name": "python"
    }
  },
  "cells": [
    {
      "cell_type": "markdown",
      "source": [
        "# **BMI Calculator Using Streamlit:**"
      ],
      "metadata": {
        "id": "zo1Sf9c9f6ru"
      }
    },
    {
      "cell_type": "markdown",
      "source": [
        "This is a BMI (Body Mass Index) calculator built using Streamlit, which allows creating a simple and interactive web application."
      ],
      "metadata": {
        "id": "uEirxzBcgFZG"
      }
    },
    {
      "cell_type": "markdown",
      "source": [
        "**1. Importing Streamlit**"
      ],
      "metadata": {
        "id": "jdkaOWsGgI2O"
      }
    },
    {
      "cell_type": "code",
      "execution_count": null,
      "metadata": {
        "id": "IT4Wh9Hof2sM"
      },
      "outputs": [],
      "source": [
        "import streamlit as st"
      ]
    },
    {
      "cell_type": "markdown",
      "source": [
        "* Streamlit (st) is a Python library for building interactive web apps.\n",
        "\n",
        "* Here, it is used to create input fields, buttons, and display results."
      ],
      "metadata": {
        "id": "wQp3W3eZgPah"
      }
    },
    {
      "cell_type": "markdown",
      "source": [
        "**2. BMI Calculation Function**"
      ],
      "metadata": {
        "id": "PW1L26ZQgY29"
      }
    },
    {
      "cell_type": "code",
      "source": [
        "def calculate_bmi(weight, height):\n",
        "    bmi = weight / (height ** 2)  # BMI formula: weight (kg) / height (m^2)\n",
        "    return bmi"
      ],
      "metadata": {
        "id": "lKkMbyAVgavd"
      },
      "execution_count": null,
      "outputs": []
    },
    {
      "cell_type": "markdown",
      "source": [
        "* Formula: BMI = weight (kg) / (height (m)²)\n",
        "\n",
        "* Takes weight (kg) and height (m) as inputs and returns BMI value.\n"
      ],
      "metadata": {
        "id": "aJba2BhTgetX"
      }
    },
    {
      "cell_type": "markdown",
      "source": [
        "**3. BMI Category Function**"
      ],
      "metadata": {
        "id": "cpaGK7FPgiRj"
      }
    },
    {
      "cell_type": "code",
      "source": [
        "def bmi_category(bmi):\n",
        "    if bmi < 18.5:\n",
        "        return \"Underweight\"\n",
        "    elif 18.5 <= bmi < 24.9:\n",
        "        return \"Normal weight\"\n",
        "    elif 25 <= bmi < 29.9:\n",
        "        return \"Overweight\"\n",
        "    else:\n",
        "        return \"Obese\""
      ],
      "metadata": {
        "id": "JDJYus3VgjeF"
      },
      "execution_count": null,
      "outputs": []
    },
    {
      "cell_type": "markdown",
      "source": [
        "* Determines BMI category based on standard BMI ranges:\n",
        "* < 18.5 → Underweight\n",
        "\n",
        "* 18.5 – 24.9 → Normal weight\n",
        "\n",
        "* 25 – 29.9 → Overweight\n",
        "\n",
        "* ≥ 30 → Obese\n"
      ],
      "metadata": {
        "id": "HvDYFOzcgmL2"
      }
    },
    {
      "cell_type": "markdown",
      "source": [
        "4. Streamlit UI Components"
      ],
      "metadata": {
        "id": "ZlcEZfG-hUGX"
      }
    },
    {
      "cell_type": "code",
      "source": [
        "st.title(\"BMI Calculator 💪\")\n"
      ],
      "metadata": {
        "id": "96_yk4xKhV1f"
      },
      "execution_count": null,
      "outputs": []
    },
    {
      "cell_type": "markdown",
      "source": [
        "* Displays the app title at the top with an emoji."
      ],
      "metadata": {
        "id": "27kL3iu3ha52"
      }
    },
    {
      "cell_type": "markdown",
      "source": [
        "5. Taking User Input"
      ],
      "metadata": {
        "id": "v839AyDvhfLj"
      }
    },
    {
      "cell_type": "code",
      "source": [
        "weight = st.number_input(\"Enter your weight in kg:\", min_value=1.0, format=\"%.2f\")\n",
        "height = st.number_input(\"Enter your height in meters:\", min_value=0.5, format=\"%.2f\")\n"
      ],
      "metadata": {
        "id": "uQPHdtTvhj1b"
      },
      "execution_count": null,
      "outputs": []
    },
    {
      "cell_type": "markdown",
      "source": [
        "st.number_input() creates a numeric input box for:\n",
        "\n",
        "* Weight (kg) → Minimum value 1.0\n",
        "\n",
        "* Height (m) → Minimum value 0.5\n",
        "\n",
        "* format=\"%.2f\" ensures two decimal places.\n"
      ],
      "metadata": {
        "id": "IK-t2InHhnfd"
      }
    },
    {
      "cell_type": "markdown",
      "source": [
        "6. Calculate BMI Button"
      ],
      "metadata": {
        "id": "igJUydmrh2Wi"
      }
    },
    {
      "cell_type": "code",
      "source": [
        "if st.button(\"Calculate BMI\"):\n"
      ],
      "metadata": {
        "id": "96NDXKYTh5jR"
      },
      "execution_count": null,
      "outputs": []
    },
    {
      "cell_type": "markdown",
      "source": [
        "* Creates a button that triggers BMI calculation when clicked.\n"
      ],
      "metadata": {
        "id": "UxRbCKdhh7hV"
      }
    },
    {
      "cell_type": "markdown",
      "source": [
        "7. Handling the Calculation"
      ],
      "metadata": {
        "id": "taJ4Mh3AiMuZ"
      }
    },
    {
      "cell_type": "code",
      "source": [
        "    if weight > 0 and height > 0:\n",
        "        bmi = calculate_bmi(weight, height)  # Calculate BMI\n",
        "        category = bmi_category(bmi)  # Get category\n",
        "\n",
        "        st.success(f\"Your BMI is: **{bmi:.2f}**\")  # Display BMI with 2 decimal places\n",
        "        st.info(f\"Category: **{category}**\")  # Show BMI category\n"
      ],
      "metadata": {
        "id": "wEKSwUa6iPKT"
      },
      "execution_count": null,
      "outputs": []
    },
    {
      "cell_type": "markdown",
      "source": [
        "* BMI is calculated using calculate_bmi(weight, height).\n",
        "\n",
        "* Category is determined using bmi_category(bmi).\\\n",
        "\n",
        "* st.success() displays the BMI result.\n",
        "\n",
        "* st.info() shows the category."
      ],
      "metadata": {
        "id": "bgUmsSINiRe7"
      }
    },
    {
      "cell_type": "markdown",
      "source": [
        "8. Error Handling"
      ],
      "metadata": {
        "id": "DVi9r56aijvk"
      }
    },
    {
      "cell_type": "code",
      "source": [
        "    else:\n",
        "        st.error(\"Please enter valid values for weight and height!\")\n"
      ],
      "metadata": {
        "id": "bDiwEmBqikj7"
      },
      "execution_count": null,
      "outputs": []
    },
    {
      "cell_type": "markdown",
      "source": [
        "* Prevents calculation with invalid inputs (e.g., 0 or negative values).\n",
        "\n",
        "* st.error() shows a red error message if values are invalid.\n"
      ],
      "metadata": {
        "id": "xro0wWn6inHn"
      }
    },
    {
      "cell_type": "markdown",
      "source": [
        "How It Works in Streamlit?"
      ],
      "metadata": {
        "id": "11S1q4ftivAN"
      }
    },
    {
      "cell_type": "code",
      "source": [
        "streamlit run script.py\n"
      ],
      "metadata": {
        "id": "cFUHCjDii1YO"
      },
      "execution_count": null,
      "outputs": []
    },
    {
      "cell_type": "markdown",
      "source": [
        "# **Complete Code**"
      ],
      "metadata": {
        "id": "9-hWWCjGi3pq"
      }
    },
    {
      "cell_type": "code",
      "source": [
        "import streamlit as st\n",
        "\n",
        "def calculate_bmi(weight, height):\n",
        "    bmi = weight / (height ** 2)  # BMI formula: weight (kg) / height (m^2)\n",
        "    return bmi\n",
        "\n",
        "def bmi_category(bmi):\n",
        "    if bmi < 18.5:\n",
        "        return \"Underweight\"\n",
        "    elif 18.5 <= bmi < 24.9:\n",
        "        return \"Normal weight\"\n",
        "    elif 25 <= bmi < 29.9:\n",
        "        return \"Overweight\"\n",
        "    else:\n",
        "        return \"Obese\"\n",
        "\n",
        "# Streamlit UI\n",
        "st.title(\"BMI Calculator 💪\")\n",
        "\n",
        "weight = st.number_input(\"Enter your weight in kg:\", min_value=1.0, format=\"%.2f\")\n",
        "height = st.number_input(\"Enter your height in meters:\", min_value=0.5, format=\"%.2f\")\n",
        "\n",
        "if st.button(\"Calculate BMI\"):\n",
        "    if weight > 0 and height > 0:\n",
        "        bmi = calculate_bmi(weight, height)\n",
        "        category = bmi_category(bmi)\n",
        "        st.success(f\"Your BMI is: **{bmi:.2f}**\")\n",
        "        st.info(f\"Category: **{category}**\")\n",
        "    else:\n",
        "        st.error(\"Please enter valid values for weight and height!\")\n"
      ],
      "metadata": {
        "colab": {
          "base_uri": "https://localhost:8080/",
          "height": 384
        },
        "id": "7XoSnw-Ti_Lf",
        "outputId": "9a6c85e5-93c8-46fb-f942-e297fad9abf2"
      },
      "execution_count": null,
      "outputs": [
        {
          "output_type": "error",
          "ename": "ModuleNotFoundError",
          "evalue": "No module named 'streamlit'",
          "traceback": [
            "\u001b[0;31m---------------------------------------------------------------------------\u001b[0m",
            "\u001b[0;31mModuleNotFoundError\u001b[0m                       Traceback (most recent call last)",
            "\u001b[0;32m<ipython-input-3-e2565dc375b8>\u001b[0m in \u001b[0;36m<cell line: 0>\u001b[0;34m()\u001b[0m\n\u001b[0;32m----> 1\u001b[0;31m \u001b[0;32mimport\u001b[0m \u001b[0mstreamlit\u001b[0m \u001b[0;32mas\u001b[0m \u001b[0mst\u001b[0m\u001b[0;34m\u001b[0m\u001b[0;34m\u001b[0m\u001b[0m\n\u001b[0m\u001b[1;32m      2\u001b[0m \u001b[0;34m\u001b[0m\u001b[0m\n\u001b[1;32m      3\u001b[0m \u001b[0;32mdef\u001b[0m \u001b[0mcalculate_bmi\u001b[0m\u001b[0;34m(\u001b[0m\u001b[0mweight\u001b[0m\u001b[0;34m,\u001b[0m \u001b[0mheight\u001b[0m\u001b[0;34m)\u001b[0m\u001b[0;34m:\u001b[0m\u001b[0;34m\u001b[0m\u001b[0;34m\u001b[0m\u001b[0m\n\u001b[1;32m      4\u001b[0m     \u001b[0mbmi\u001b[0m \u001b[0;34m=\u001b[0m \u001b[0mweight\u001b[0m \u001b[0;34m/\u001b[0m \u001b[0;34m(\u001b[0m\u001b[0mheight\u001b[0m \u001b[0;34m**\u001b[0m \u001b[0;36m2\u001b[0m\u001b[0;34m)\u001b[0m  \u001b[0;31m# BMI formula: weight (kg) / height (m^2)\u001b[0m\u001b[0;34m\u001b[0m\u001b[0;34m\u001b[0m\u001b[0m\n\u001b[1;32m      5\u001b[0m     \u001b[0;32mreturn\u001b[0m \u001b[0mbmi\u001b[0m\u001b[0;34m\u001b[0m\u001b[0;34m\u001b[0m\u001b[0m\n",
            "\u001b[0;31mModuleNotFoundError\u001b[0m: No module named 'streamlit'",
            "",
            "\u001b[0;31m---------------------------------------------------------------------------\u001b[0;32m\nNOTE: If your import is failing due to a missing package, you can\nmanually install dependencies using either !pip or !apt.\n\nTo view examples of installing some common dependencies, click the\n\"Open Examples\" button below.\n\u001b[0;31m---------------------------------------------------------------------------\u001b[0m\n"
          ],
          "errorDetails": {
            "actions": [
              {
                "action": "open_url",
                "actionText": "Open Examples",
                "url": "/notebooks/snippets/importing_libraries.ipynb"
              }
            ]
          }
        }
      ]
    }
  ]
}