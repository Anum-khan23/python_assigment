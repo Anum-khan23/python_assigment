{
  "nbformat": 4,
  "nbformat_minor": 0,
  "metadata": {
    "colab": {
      "provenance": []
    },
    "kernelspec": {
      "name": "python3",
      "display_name": "Python 3"
    },
    "language_info": {
      "name": "python"
    }
  },
  "cells": [
    {
      "cell_type": "markdown",
      "source": [
        " **Number Guessing Game**\n",
        "\n",
        " This Python script consists of two interactive games:"
      ],
      "metadata": {
        "id": "MOnHCFYkT_Rl"
      }
    },
    {
      "cell_type": "markdown",
      "source": [
        " 1. User Guessing Game: The user tries to guess a randomly generated number.\n",
        "\n",
        " 2. Computer Guessing Game: The computer tries to guess a number the user is thinking of."
      ],
      "metadata": {
        "id": "nh_7_oUZUOgw"
      }
    },
    {
      "cell_type": "markdown",
      "source": [
        " 1. **Importing the Required Library**"
      ],
      "metadata": {
        "id": "jdtTojrwUT4y"
      }
    },
    {
      "cell_type": "code",
      "source": [
        "import random"
      ],
      "metadata": {
        "id": "204LzrEOUZhR"
      },
      "execution_count": null,
      "outputs": []
    },
    {
      "cell_type": "markdown",
      "source": [
        "*   We import the random module, which helps generate random numbers."
      ],
      "metadata": {
        "id": "cQx0-q1wUemq"
      }
    },
    {
      "cell_type": "markdown",
      "source": [
        "1.   **User Guessing Game Function (guess(x))**"
      ],
      "metadata": {
        "id": "91OgXWeKUth1"
      }
    },
    {
      "cell_type": "code",
      "source": [
        "def guess(x):\n",
        "    \"\"\"Function where the user guesses a number within a given range.\"\"\"\n",
        "    random_number = random.randint(1, x)  # Generates a random number between 1 and x\n",
        "    guess = None  # Initialize guess as None\n",
        "\n",
        "    while guess != random_number:  # Keep looping until the correct number is guessed\n",
        "        try:\n",
        "            guess = int(input(f'Guess a number between 1 and {x}: '))  # Convert user input to integer\n",
        "\n",
        "            if guess < random_number:\n",
        "                print('Sorry, guess again. Too Low.')\n",
        "            elif guess > random_number:\n",
        "                print('Sorry, guess again. Too High.')\n",
        "\n",
        "        except ValueError:\n",
        "            print(\"Invalid input! Please enter a valid number.\")  # Handle cases where the input is not a number\n",
        "\n",
        "    print(f'Yeah, congrats! You have guessed the number {random_number}.')\n"
      ],
      "metadata": {
        "id": "p1U48Xw7U2eD"
      },
      "execution_count": 2,
      "outputs": []
    },
    {
      "cell_type": "markdown",
      "source": [
        "How It Works:\n",
        "\n",
        "\n",
        "* The function randomly selects a number between 1 and x.\n",
        "\n",
        "* The user is repeatedly asked to enter a number.\n",
        "\n",
        "*  If the guess is too low, the program prompts the user to guess higher.\n",
        "\n",
        "* If the guess is too high, the program prompts the user to guess lower.\n",
        "\n",
        "* If the guess is correct, the game ends with a congratulatory message.\n",
        "\n",
        "* If the user enters a non-numeric value, an error message appears.\n",
        "\n",
        "\n",
        "\n"
      ],
      "metadata": {
        "id": "2sgBFu6wWR_t"
      }
    },
    {
      "cell_type": "markdown",
      "source": [
        "3.    **Computer Guessing Game Function (computer_guess(x))**"
      ],
      "metadata": {
        "id": "__Y2mUPZU87f"
      }
    },
    {
      "cell_type": "code",
      "source": [
        "def computer_guess(x):\n",
        "    \"\"\"Function where the computer tries to guess the user's number.\"\"\"\n",
        "    low = 1\n",
        "    high = x\n",
        "    feedback = ''  # Initialize feedback variable\n",
        "\n",
        "    while feedback != 'c':  # Loop until the user confirms the guess is correct\n",
        "        if low != high:\n",
        "            guess = random.randint(low, high)  # Generate a random guess between low and high\n",
        "        else:\n",
        "            guess = low  # When low == high, guess must be that number\n",
        "\n",
        "        feedback = input(f'Is {guess} too high (H), too low (L), or correct (C)? ').lower()\n",
        "\n",
        "        if feedback == 'h':\n",
        "            high = guess - 1  # Adjust the range to avoid numbers greater than the guess\n",
        "        elif feedback == 'l':\n",
        "            low = guess + 1  # Adjust the range to avoid numbers lower than the guess\n",
        "        elif feedback == 'c':\n",
        "            print(f'Yay! The computer guessed your number {guess} correctly!')\n"
      ],
      "metadata": {
        "id": "bP8mL_MIVtLn"
      },
      "execution_count": 3,
      "outputs": []
    },
    {
      "cell_type": "markdown",
      "source": [
        "**How It Works:**\n",
        "\n",
        "* The user secretly picks a number between 1 and x.\n",
        "\n",
        "* The computer randomly selects a number within that range.\n",
        "\n",
        "**The user provides feedback: **\n",
        "\n",
        "* \"H\" → The guess is too high, so the computer adjusts the range.\n",
        "\n",
        "* \"L\" → The guess is too low, so the computer adjusts the range.\n",
        "\n",
        "* \"C\" → The guess is correct, and the game ends.\n",
        "\n",
        "* The computer keeps refining its guess using a narrowing range until it finds the correct number."
      ],
      "metadata": {
        "id": "Y5Ps8z-PWqhd"
      }
    }
  ]
}