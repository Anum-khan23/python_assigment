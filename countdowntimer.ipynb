{
  "nbformat": 4,
  "nbformat_minor": 0,
  "metadata": {
    "colab": {
      "provenance": []
    },
    "kernelspec": {
      "name": "python3",
      "display_name": "Python 3"
    },
    "language_info": {
      "name": "python"
    }
  },
  "cells": [
    {
      "cell_type": "markdown",
      "source": [],
      "metadata": {
        "id": "l3Ax46zCdw9o"
      }
    },
    {
      "cell_type": "markdown",
      "source": [
        "# **Countdown Timer**"
      ],
      "metadata": {
        "id": "QtmK4peCdwr_"
      }
    },
    {
      "cell_type": "markdown",
      "source": [
        "This Python program is a countdown timer that takes user input in seconds and counts down to zero, displaying the time left in MM:SS format."
      ],
      "metadata": {
        "id": "mUY9JcZAd4bU"
      }
    },
    {
      "cell_type": "markdown",
      "source": [
        "1. Importing the time Module\n",
        "python\n"
      ],
      "metadata": {
        "id": "58qYqRTld-FB"
      }
    },
    {
      "cell_type": "code",
      "execution_count": null,
      "metadata": {
        "id": "yjSmG95HdtFk"
      },
      "outputs": [],
      "source": [
        "import time"
      ]
    },
    {
      "cell_type": "markdown",
      "source": [
        "* The time module is used to introduce a delay (time.sleep(1)) so the countdown updates every second."
      ],
      "metadata": {
        "id": "fyULzLrqeBqU"
      }
    },
    {
      "cell_type": "markdown",
      "source": [
        "**2. countdown_timer(seconds): Countdown Function**"
      ],
      "metadata": {
        "id": "t5LcYcY6eGoP"
      }
    },
    {
      "cell_type": "code",
      "source": [
        "def countdown_timer(seconds):\n",
        "    while seconds:"
      ],
      "metadata": {
        "id": "CZ-PGM1teKHi"
      },
      "execution_count": null,
      "outputs": []
    },
    {
      "cell_type": "markdown",
      "source": [
        " * The function runs a loop until seconds reaches 0."
      ],
      "metadata": {
        "id": "2KGSTLA_eNJ2"
      }
    },
    {
      "cell_type": "markdown",
      "source": [
        "**Converting Seconds to Minutes and Seconds**"
      ],
      "metadata": {
        "id": "NYTBP3ZseSnE"
      }
    },
    {
      "cell_type": "code",
      "source": [
        "        mins, secs = divmod(seconds, 60)\n",
        "        timer = f\"{mins:02d}:{secs:02d}\""
      ],
      "metadata": {
        "id": "qhchQVhKeV8b"
      },
      "execution_count": null,
      "outputs": []
    },
    {
      "cell_type": "markdown",
      "source": [
        "* divmod(seconds, 60) splits total seconds into minutes and seconds:\n",
        "\n",
        "* Example: divmod(125, 60) → (2, 5) → 2 minutes and 5 seconds."
      ],
      "metadata": {
        "id": "BOq0y3-veW7J"
      }
    },
    {
      "cell_type": "markdown",
      "source": [
        "**Printing Timer in Place**"
      ],
      "metadata": {
        "id": "72x6qW5PehvP"
      }
    },
    {
      "cell_type": "code",
      "source": [
        "        print(timer, end=\"\\r\")  # Overwrites the previous line"
      ],
      "metadata": {
        "id": "-H-TrdqFen82"
      },
      "execution_count": null,
      "outputs": []
    },
    {
      "cell_type": "markdown",
      "source": [
        "* end=\"\\r\" overwrites the previous print statement instead of printing on a new line.\n",
        "\n",
        "* This creates a real-time countdown effect."
      ],
      "metadata": {
        "id": "0_A19sVWeqXJ"
      }
    },
    {
      "cell_type": "markdown",
      "source": [
        "Adding a Delay and Decreasing the Timer"
      ],
      "metadata": {
        "id": "kaLSuaypewRT"
      }
    },
    {
      "cell_type": "code",
      "source": [
        "        time.sleep(1)\n",
        "        seconds -= 1"
      ],
      "metadata": {
        "id": "x1ENrx4Yeyja"
      },
      "execution_count": null,
      "outputs": []
    },
    {
      "cell_type": "markdown",
      "source": [
        "* time.sleep(1): Pauses the loop for 1 second before updating.\n",
        "\n",
        "* seconds -= 1: Decreases the countdown value."
      ],
      "metadata": {
        "id": "sXquHePHezSj"
      }
    },
    {
      "cell_type": "markdown",
      "source": [
        "**3. Printing \"Time's Up\" Message**"
      ],
      "metadata": {
        "id": "ZogBNcA4e43T"
      }
    },
    {
      "cell_type": "code",
      "source": [
        "    print(\"Time's up! 🎉\")"
      ],
      "metadata": {
        "id": "KBwIWeDue8xG"
      },
      "execution_count": null,
      "outputs": []
    },
    {
      "cell_type": "markdown",
      "source": [
        "Once the loop ends (seconds == 0), it prints \"Time's up!\" as a final message."
      ],
      "metadata": {
        "id": "A8oUExtbe_Gd"
      }
    },
    {
      "cell_type": "markdown",
      "source": [
        "**4. Taking User Input**"
      ],
      "metadata": {
        "id": "LHt3DFuQfEcr"
      }
    },
    {
      "cell_type": "code",
      "source": [
        "countdown_time = int(input(\"Enter countdown time in seconds: \"))\n",
        "countdown_timer(countdown_time)"
      ],
      "metadata": {
        "id": "g4qkBlC5fHH2"
      },
      "execution_count": null,
      "outputs": []
    },
    {
      "cell_type": "markdown",
      "source": [
        "* User enters countdown duration (in seconds).\n",
        "\n",
        "* Function is called with the given value.\n"
      ],
      "metadata": {
        "id": "Mu3BLMIFfH1E"
      }
    },
    {
      "cell_type": "markdown",
      "source": [
        "Complete Code"
      ],
      "metadata": {
        "id": "NZGS7YVefMkw"
      }
    },
    {
      "cell_type": "code",
      "source": [
        "import time\n",
        "\n",
        "def countdown_timer(seconds):\n",
        "    while seconds:\n",
        "        mins, secs = divmod(seconds, 60)\n",
        "        timer = f\"{mins:02d}:{secs:02d}\"\n",
        "        print(timer, end=\"\\r\")  # Overwrites the previous line\n",
        "        time.sleep(1)\n",
        "        seconds -= 1\n",
        "\n",
        "    print(\"Time's up! 🎉\")\n",
        "\n",
        "# Set countdown time in seconds\n",
        "countdown_time = int(input(\"Enter countdown time in seconds: \"))\n",
        "countdown_timer(countdown_time)\n"
      ],
      "metadata": {
        "colab": {
          "base_uri": "https://localhost:8080/"
        },
        "id": "1I-yXjZwfQvf",
        "outputId": "10c2003a-f65f-4d05-8497-418c551d951e"
      },
      "execution_count": null,
      "outputs": [
        {
          "output_type": "stream",
          "name": "stdout",
          "text": [
            "Enter countdown time in seconds: 34\n",
            "Time's up! 🎉\n"
          ]
        }
      ]
    }
  ]
}